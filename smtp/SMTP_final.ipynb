{
 "cells": [
  {
   "cell_type": "code",
   "execution_count": 17,
   "metadata": {},
   "outputs": [
    {
     "name": "stdout",
     "output_type": "stream",
     "text": [
      "220 mx1.nyu.edu ESMTP Mail Server/New York University Ready on Fri, 23 Mar 2018 19:33:07 -0400 (EDT) \r\n",
      "\n",
      "250 mx1.nyu.edu Hello 172-16-8-126.DYNAPOOL.NYU.EDU [172.16.8.126], pleased to meet you\r\n",
      "\n",
      "Sending MAIL FROM Command\n",
      "250 2.1.0 ayush159@gmail.com... Sender ok\r\n",
      "\n",
      "Sending RCPT TO Command\n",
      "250 2.1.5 ayush.sethi1093@gmail.com... Recipient ok\r\n",
      "\n",
      "Sending DATA Command\n",
      "354 Enter mail, end with \".\" on a line by itself\r\n",
      "\n",
      "250 reply not received from server.\n",
      "Sending email message data with subject line\n",
      "250 2.0.0 w2NNX7Pb007431 Message accepted for delivery\r\n",
      "\n",
      "Sending QUIT command\n",
      "221 2.0.0 mx1.nyu.edu closing connection\r\n",
      "\n",
      "250 reply not received from server.\n",
      "Mail successfully sent and connection closed\n"
     ]
    }
   ],
   "source": [
    "from socket import *\n",
    "msg = b'\\r\\n I love computer networks!'\n",
    "endmsg = b'\\r\\n.\\r\\n'\n",
    "# Choose a mail server (e.g. Google mail server) and call it mailserver\n",
    "# Using smtp.nyu.edu as smtp mail server\n",
    "mailserver = 'smtp.nyu.edu'\n",
    "clientSocket = socket(AF_INET, SOCK_STREAM)\n",
    "clientSocket.connect((mailserver, 25))\n",
    "recv = clientSocket.recv(1024).decode()\n",
    "print(recv)\n",
    "\n",
    "if recv[:3] != '220':\n",
    "    print('220 reply not received from server.')\n",
    "\n",
    "# Send HELO command and print server response.\n",
    "heloCommand = b'HELO Alice\\r\\n'\n",
    "clientSocket.send(heloCommand)\n",
    "recv1 = clientSocket.recv(1024).decode()\n",
    "print(recv1)\n",
    "if recv1[:3] != '250':\n",
    "    print('250 reply not received from server.')\n",
    " \n",
    "\n",
    "# Send MAIL FROM command and print server response.\n",
    "print('Sending MAIL FROM Command')\n",
    "clientSocket.send(b'MAIL From: ayush159@gmail.com\\r\\n')\n",
    "recv2 = clientSocket.recv(1024).decode()\n",
    "print(recv2)\n",
    "if recv2[:3] != '250':\n",
    "    print('250 reply not received from server.')\n",
    "    \n",
    "# Send RCPT TO command and print server response.\n",
    "print('Sending RCPT TO Command')\n",
    "clientSocket.send(b'RCPT TO: ayush.sethi1093@gmail.com\\r\\n')\n",
    "recv2 = clientSocket.recv(1024).decode()\n",
    "print(recv2)\n",
    "if recv2[:3] != '250':\n",
    "    print('250 reply not received from server.')\n",
    "    \n",
    "# Send DATA command and print server response.\n",
    "print('Sending DATA Command')\n",
    "clientSocket.send(b'DATA\\r\\n')\n",
    "recv2 = clientSocket.recv(1024).decode()\n",
    "print(recv2)\n",
    "if recv2[:3] != '250':\n",
    "    print('250 reply not received from server.')\n",
    "    \n",
    "# Send message data.\n",
    "print('Sending email message data with subject line')\n",
    "clientSocket.send(b'SUBJECT: My SMTP Mail Client Program\\n'+msg+endmsg)\n",
    "recv2 = clientSocket.recv(1024).decode()\n",
    "print(recv2)\n",
    "if recv2[:3] != '250':\n",
    "    print('250 reply not received from server.')\n",
    "    \n",
    " \n",
    "# Send QUIT command and get server response.\n",
    "print('Sending QUIT command')\n",
    "clientSocket.send(b'QUIT\\r\\n')\n",
    "recv2 = clientSocket.recv(1024).decode()\n",
    "print(recv2)\n",
    "if recv2[:3] != '250':\n",
    "    print('250 reply not received from server.')\n",
    "    \n",
    "print('Mail successfully sent and connection closed')"
   ]
  },
  {
   "cell_type": "code",
   "execution_count": null,
   "metadata": {
    "collapsed": true
   },
   "outputs": [],
   "source": []
  }
 ],
 "metadata": {
  "kernelspec": {
   "display_name": "Python 3",
   "language": "python",
   "name": "python3"
  },
  "language_info": {
   "codemirror_mode": {
    "name": "ipython",
    "version": 3
   },
   "file_extension": ".py",
   "mimetype": "text/x-python",
   "name": "python",
   "nbconvert_exporter": "python",
   "pygments_lexer": "ipython3",
   "version": "3.6.3"
  }
 },
 "nbformat": 4,
 "nbformat_minor": 2
}
